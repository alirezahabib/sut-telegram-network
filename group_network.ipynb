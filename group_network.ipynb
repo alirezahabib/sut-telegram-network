{
 "cells": [
  {
   "cell_type": "code",
   "execution_count": 5,
   "id": "initial_id",
   "metadata": {
    "collapsed": true,
    "ExecuteTime": {
     "end_time": "2024-01-08T08:18:49.210337Z",
     "start_time": "2024-01-08T08:18:49.209781Z"
    }
   },
   "outputs": [],
   "source": [
    "import pandas as pd\n",
    "import numpy as np\n",
    "import networkx as nx\n",
    "import matplotlib.pyplot as plt\n",
    "from PIL import Image, ImageDraw\n",
    "import os\n",
    "\n",
    "\n",
    "# User and Message classes\n",
    "class User:\n",
    "    def __init__(self, user_id: int, username, access_hash, first_name, last_name, group_id: int, group):\n",
    "        self.user_id = user_id\n",
    "        self.username = username\n",
    "        self.access_hash = access_hash,\n",
    "        self.first_name = first_name\n",
    "        self.last_name = last_name\n",
    "        self.group_id = group_id\n",
    "        self.group = group\n",
    "        self.profile_pic = None  # Set if a profile picture exists\n",
    "\n",
    "\n",
    "class Message:\n",
    "    def __init__(self, message_id: int, from_user_id: int, reply_to: int, pinned: bool, message: str, reactions):\n",
    "        self.message_id = message_id\n",
    "        self.from_user_id = from_user_id\n",
    "        self.reply_to = reply_to\n",
    "        self.pinned = pinned\n",
    "        self.message = message\n",
    "        self.reactions = [int(x) for x in str(reactions).split('-')] if pd.notnull(reactions) else []\n",
    "\n",
    "\n",
    "# Load data from CSV files\n",
    "def load_data(group_id):\n",
    "    members_path = f\"database/group-{group_id}/members.csv\"\n",
    "    messages_path = f\"database/group-{group_id}/messages.csv\"\n",
    "\n",
    "    members_df = pd.read_csv(members_path)\n",
    "    messages_df = pd.read_csv(messages_path)\n",
    "\n",
    "    users = {row['user_id']: User(**row) for _, row in members_df.iterrows()}\n",
    "    messages = {row['message_id']: Message(**row) for _, row in messages_df.iterrows()}\n",
    "\n",
    "    profile_pics_path = \"database/profile_pics/\"\n",
    "    for user_id in users:\n",
    "        pic_path = f\"{profile_pics_path}{user_id}.jpg\"\n",
    "        if os.path.exists(pic_path):\n",
    "            users[user_id].profile_pic = pic_path\n",
    "\n",
    "    return users, messages\n",
    "\n",
    "\n",
    "# Create the network graph\n",
    "def create_network(users, messages):\n",
    "    G = nx.Graph()\n",
    "\n",
    "    # Add nodes (users)\n",
    "    for user_id, user in users.items():\n",
    "        G.add_node(user_id, image=user.profile_pic or 'default.jpg')\n",
    "\n",
    "    # Function to add or update an edge\n",
    "    def add_or_update_edge(G, source, target):\n",
    "        if G.has_edge(source, target):\n",
    "            # Increase weight if edge exists\n",
    "            G[source][target]['weight'] += 1\n",
    "        else:\n",
    "            # Create new edge with weight 1\n",
    "            G.add_edge(source, target, weight=1)\n",
    "\n",
    "    # Add edges based on messages, replies, and reactions\n",
    "    for message_id, message in messages.items():\n",
    "        # Messages replying to other messages\n",
    "        if message.reply_to in messages:\n",
    "            original_sender_id = messages[message.reply_to].from_user_id\n",
    "            add_or_update_edge(G, message.from_user_id, original_sender_id)\n",
    "\n",
    "        # Reactions to messages\n",
    "        for reacting_user_id in message.reactions:\n",
    "            add_or_update_edge(G, reacting_user_id, message.from_user_id)\n",
    "\n",
    "        # Pinned messages\n",
    "        # if message.pinned:\n",
    "        #     for user_id in users:\n",
    "        #         if user_id != message.from_user_id:\n",
    "        #             add_or_update_edge(G, message.from_user_id, user_id)\n",
    "\n",
    "    return G\n",
    "\n",
    "\n",
    "def make_circular(image_path):\n",
    "    img = Image.open(image_path)\n",
    "    mask = Image.new('L', img.size, 0)\n",
    "    draw = ImageDraw.Draw(mask)\n",
    "    draw.ellipse((0, 0) + img.size, fill=255)\n",
    "    result = Image.new('RGBA', img.size, (0, 0, 0, 0))\n",
    "    result.paste(img, (0, 0), mask=mask)\n",
    "    return result\n",
    "\n",
    "\n",
    "# Draw the network\n",
    "def draw_network(G):\n",
    "    plt.figure(figsize=(16, 9))\n",
    "\n",
    "    # Calculate node sizes based on in-degree\n",
    "    degrees = G.degree(weight='weight')\n",
    "    node_sizes = [np.log(degree + 1) * 100 for _, degree in degrees]  # Apply logarithm and scale\n",
    "    pos = nx.spring_layout(G, k=2, iterations=30)\n",
    "\n",
    "    # Draw nodes with sizes based on in-degree\n",
    "    nx.draw_networkx_nodes(G, pos, node_size=node_sizes)\n",
    "\n",
    "    # Draw edges with thickness based on weight\n",
    "    edge_weights = np.array([G[u][v]['weight'] for u, v in G.edges()])\n",
    "    edge_weights = edge_weights / np.max(edge_weights)\n",
    "\n",
    "    nx.draw_networkx_edges(G, pos, width=(1 + 3 * edge_weights), alpha=(0.2 + edge_weights * 0.8), node_size=node_sizes)\n",
    "\n",
    "    # Draw labels\n",
    "    # nx.draw_networkx_labels(G, pos)\n",
    "\n",
    "    # Add profile pictures to nodes\n",
    "    ax = plt.gca()\n",
    "    fig = plt.gcf()\n",
    "    trans = ax.transData.transform\n",
    "    trans2 = fig.transFigure.inverted().transform\n",
    "    for node in G.nodes():\n",
    "        path = './database/profile_pics/' + str(node) + '.jpg'\n",
    "        if os.path.exists(path):\n",
    "            imsize = np.log(degrees[node] + 1) * 0.1\n",
    "            (x, y) = pos[node]\n",
    "            xx, yy = trans((x, y))  # figure coordinates\n",
    "            xa, ya = trans2((xx, yy))  # axes coordinates\n",
    "            a = plt.axes((xa - imsize / 2.0, ya - imsize / 2.0, imsize, imsize))\n",
    "            a.imshow(make_circular(path))\n",
    "            a.set_aspect('equal')\n",
    "            a.axis('off')\n",
    "    # for node in G.nodes:\n",
    "    #     image_path = 'default.jpg'\n",
    "    #     image = Image.open(image_path)\n",
    "    #     ax.imshow(image, extent=(pos[node][0] - 0.01, pos[node][0] + 0.01, pos[node][1] - 0.01, pos[node][1] + 0.01))\n",
    "    print('here')\n",
    "    plt.savefig('./network.png', dpi=600)\n",
    "    plt.show()"
   ]
  },
  {
   "cell_type": "code",
   "outputs": [],
   "source": [
    "# Load data and create the network\n",
    "group_id = 1952093821\n",
    "users, messages = load_data(group_id)"
   ],
   "metadata": {
    "collapsed": false,
    "ExecuteTime": {
     "end_time": "2024-01-08T08:18:50.207270Z",
     "start_time": "2024-01-08T08:18:50.184833Z"
    }
   },
   "id": "7024fdfa56ba633e",
   "execution_count": 6
  },
  {
   "cell_type": "code",
   "outputs": [],
   "source": [
    "G = create_network(users, messages)"
   ],
   "metadata": {
    "collapsed": false,
    "ExecuteTime": {
     "end_time": "2024-01-08T08:18:51.136645Z",
     "start_time": "2024-01-08T08:18:51.133662Z"
    }
   },
   "id": "63c57367322f1235",
   "execution_count": 7
  },
  {
   "cell_type": "code",
   "outputs": [
    {
     "ename": "ValueError",
     "evalue": "'bboxes' cannot be empty",
     "output_type": "error",
     "traceback": [
      "\u001B[0;31m---------------------------------------------------------------------------\u001B[0m",
      "\u001B[0;31mValueError\u001B[0m                                Traceback (most recent call last)",
      "File \u001B[0;32m~/Library/Python/3.12/lib/python/site-packages/IPython/core/formatters.py:340\u001B[0m, in \u001B[0;36mBaseFormatter.__call__\u001B[0;34m(self, obj)\u001B[0m\n\u001B[1;32m    338\u001B[0m     \u001B[38;5;28;01mpass\u001B[39;00m\n\u001B[1;32m    339\u001B[0m \u001B[38;5;28;01melse\u001B[39;00m:\n\u001B[0;32m--> 340\u001B[0m     \u001B[38;5;28;01mreturn\u001B[39;00m \u001B[43mprinter\u001B[49m\u001B[43m(\u001B[49m\u001B[43mobj\u001B[49m\u001B[43m)\u001B[49m\n\u001B[1;32m    341\u001B[0m \u001B[38;5;66;03m# Finally look for special method names\u001B[39;00m\n\u001B[1;32m    342\u001B[0m method \u001B[38;5;241m=\u001B[39m get_real_method(obj, \u001B[38;5;28mself\u001B[39m\u001B[38;5;241m.\u001B[39mprint_method)\n",
      "File \u001B[0;32m~/Library/Python/3.12/lib/python/site-packages/IPython/core/pylabtools.py:152\u001B[0m, in \u001B[0;36mprint_figure\u001B[0;34m(fig, fmt, bbox_inches, base64, **kwargs)\u001B[0m\n\u001B[1;32m    149\u001B[0m     \u001B[38;5;28;01mfrom\u001B[39;00m \u001B[38;5;21;01mmatplotlib\u001B[39;00m\u001B[38;5;21;01m.\u001B[39;00m\u001B[38;5;21;01mbackend_bases\u001B[39;00m \u001B[38;5;28;01mimport\u001B[39;00m FigureCanvasBase\n\u001B[1;32m    150\u001B[0m     FigureCanvasBase(fig)\n\u001B[0;32m--> 152\u001B[0m \u001B[43mfig\u001B[49m\u001B[38;5;241;43m.\u001B[39;49m\u001B[43mcanvas\u001B[49m\u001B[38;5;241;43m.\u001B[39;49m\u001B[43mprint_figure\u001B[49m\u001B[43m(\u001B[49m\u001B[43mbytes_io\u001B[49m\u001B[43m,\u001B[49m\u001B[43m \u001B[49m\u001B[38;5;241;43m*\u001B[39;49m\u001B[38;5;241;43m*\u001B[39;49m\u001B[43mkw\u001B[49m\u001B[43m)\u001B[49m\n\u001B[1;32m    153\u001B[0m data \u001B[38;5;241m=\u001B[39m bytes_io\u001B[38;5;241m.\u001B[39mgetvalue()\n\u001B[1;32m    154\u001B[0m \u001B[38;5;28;01mif\u001B[39;00m fmt \u001B[38;5;241m==\u001B[39m \u001B[38;5;124m'\u001B[39m\u001B[38;5;124msvg\u001B[39m\u001B[38;5;124m'\u001B[39m:\n",
      "File \u001B[0;32m~/Library/Python/3.12/lib/python/site-packages/matplotlib/backend_bases.py:2167\u001B[0m, in \u001B[0;36mFigureCanvasBase.print_figure\u001B[0;34m(self, filename, dpi, facecolor, edgecolor, orientation, format, bbox_inches, pad_inches, bbox_extra_artists, backend, **kwargs)\u001B[0m\n\u001B[1;32m   2165\u001B[0m \u001B[38;5;28;01mif\u001B[39;00m bbox_inches:\n\u001B[1;32m   2166\u001B[0m     \u001B[38;5;28;01mif\u001B[39;00m bbox_inches \u001B[38;5;241m==\u001B[39m \u001B[38;5;124m\"\u001B[39m\u001B[38;5;124mtight\u001B[39m\u001B[38;5;124m\"\u001B[39m:\n\u001B[0;32m-> 2167\u001B[0m         bbox_inches \u001B[38;5;241m=\u001B[39m \u001B[38;5;28;43mself\u001B[39;49m\u001B[38;5;241;43m.\u001B[39;49m\u001B[43mfigure\u001B[49m\u001B[38;5;241;43m.\u001B[39;49m\u001B[43mget_tightbbox\u001B[49m\u001B[43m(\u001B[49m\n\u001B[1;32m   2168\u001B[0m \u001B[43m            \u001B[49m\u001B[43mrenderer\u001B[49m\u001B[43m,\u001B[49m\u001B[43m \u001B[49m\u001B[43mbbox_extra_artists\u001B[49m\u001B[38;5;241;43m=\u001B[39;49m\u001B[43mbbox_extra_artists\u001B[49m\u001B[43m)\u001B[49m\n\u001B[1;32m   2169\u001B[0m         \u001B[38;5;28;01mif\u001B[39;00m (\u001B[38;5;28misinstance\u001B[39m(layout_engine, ConstrainedLayoutEngine) \u001B[38;5;129;01mand\u001B[39;00m\n\u001B[1;32m   2170\u001B[0m                 pad_inches \u001B[38;5;241m==\u001B[39m \u001B[38;5;124m\"\u001B[39m\u001B[38;5;124mlayout\u001B[39m\u001B[38;5;124m\"\u001B[39m):\n\u001B[1;32m   2171\u001B[0m             h_pad \u001B[38;5;241m=\u001B[39m layout_engine\u001B[38;5;241m.\u001B[39mget()[\u001B[38;5;124m\"\u001B[39m\u001B[38;5;124mh_pad\u001B[39m\u001B[38;5;124m\"\u001B[39m]\n",
      "File \u001B[0;32m~/Library/Python/3.12/lib/python/site-packages/matplotlib/_api/deprecation.py:454\u001B[0m, in \u001B[0;36mmake_keyword_only.<locals>.wrapper\u001B[0;34m(*args, **kwargs)\u001B[0m\n\u001B[1;32m    448\u001B[0m \u001B[38;5;28;01mif\u001B[39;00m \u001B[38;5;28mlen\u001B[39m(args) \u001B[38;5;241m>\u001B[39m name_idx:\n\u001B[1;32m    449\u001B[0m     warn_deprecated(\n\u001B[1;32m    450\u001B[0m         since, message\u001B[38;5;241m=\u001B[39m\u001B[38;5;124m\"\u001B[39m\u001B[38;5;124mPassing the \u001B[39m\u001B[38;5;132;01m%(name)s\u001B[39;00m\u001B[38;5;124m \u001B[39m\u001B[38;5;132;01m%(obj_type)s\u001B[39;00m\u001B[38;5;124m \u001B[39m\u001B[38;5;124m\"\u001B[39m\n\u001B[1;32m    451\u001B[0m         \u001B[38;5;124m\"\u001B[39m\u001B[38;5;124mpositionally is deprecated since Matplotlib \u001B[39m\u001B[38;5;132;01m%(since)s\u001B[39;00m\u001B[38;5;124m; the \u001B[39m\u001B[38;5;124m\"\u001B[39m\n\u001B[1;32m    452\u001B[0m         \u001B[38;5;124m\"\u001B[39m\u001B[38;5;124mparameter will become keyword-only \u001B[39m\u001B[38;5;132;01m%(removal)s\u001B[39;00m\u001B[38;5;124m.\u001B[39m\u001B[38;5;124m\"\u001B[39m,\n\u001B[1;32m    453\u001B[0m         name\u001B[38;5;241m=\u001B[39mname, obj_type\u001B[38;5;241m=\u001B[39m\u001B[38;5;124mf\u001B[39m\u001B[38;5;124m\"\u001B[39m\u001B[38;5;124mparameter of \u001B[39m\u001B[38;5;132;01m{\u001B[39;00mfunc\u001B[38;5;241m.\u001B[39m\u001B[38;5;18m__name__\u001B[39m\u001B[38;5;132;01m}\u001B[39;00m\u001B[38;5;124m()\u001B[39m\u001B[38;5;124m\"\u001B[39m)\n\u001B[0;32m--> 454\u001B[0m \u001B[38;5;28;01mreturn\u001B[39;00m \u001B[43mfunc\u001B[49m\u001B[43m(\u001B[49m\u001B[38;5;241;43m*\u001B[39;49m\u001B[43margs\u001B[49m\u001B[43m,\u001B[49m\u001B[43m \u001B[49m\u001B[38;5;241;43m*\u001B[39;49m\u001B[38;5;241;43m*\u001B[39;49m\u001B[43mkwargs\u001B[49m\u001B[43m)\u001B[49m\n",
      "File \u001B[0;32m~/Library/Python/3.12/lib/python/site-packages/matplotlib/figure.py:1774\u001B[0m, in \u001B[0;36mFigureBase.get_tightbbox\u001B[0;34m(self, renderer, bbox_extra_artists)\u001B[0m\n\u001B[1;32m   1771\u001B[0m     artists \u001B[38;5;241m=\u001B[39m bbox_extra_artists\n\u001B[1;32m   1773\u001B[0m \u001B[38;5;28;01mfor\u001B[39;00m a \u001B[38;5;129;01min\u001B[39;00m artists:\n\u001B[0;32m-> 1774\u001B[0m     bbox \u001B[38;5;241m=\u001B[39m \u001B[43ma\u001B[49m\u001B[38;5;241;43m.\u001B[39;49m\u001B[43mget_tightbbox\u001B[49m\u001B[43m(\u001B[49m\u001B[43mrenderer\u001B[49m\u001B[43m)\u001B[49m\n\u001B[1;32m   1775\u001B[0m     \u001B[38;5;28;01mif\u001B[39;00m bbox \u001B[38;5;129;01mis\u001B[39;00m \u001B[38;5;129;01mnot\u001B[39;00m \u001B[38;5;28;01mNone\u001B[39;00m:\n\u001B[1;32m   1776\u001B[0m         bb\u001B[38;5;241m.\u001B[39mappend(bbox)\n",
      "File \u001B[0;32m~/Library/Python/3.12/lib/python/site-packages/matplotlib/_api/deprecation.py:454\u001B[0m, in \u001B[0;36mmake_keyword_only.<locals>.wrapper\u001B[0;34m(*args, **kwargs)\u001B[0m\n\u001B[1;32m    448\u001B[0m \u001B[38;5;28;01mif\u001B[39;00m \u001B[38;5;28mlen\u001B[39m(args) \u001B[38;5;241m>\u001B[39m name_idx:\n\u001B[1;32m    449\u001B[0m     warn_deprecated(\n\u001B[1;32m    450\u001B[0m         since, message\u001B[38;5;241m=\u001B[39m\u001B[38;5;124m\"\u001B[39m\u001B[38;5;124mPassing the \u001B[39m\u001B[38;5;132;01m%(name)s\u001B[39;00m\u001B[38;5;124m \u001B[39m\u001B[38;5;132;01m%(obj_type)s\u001B[39;00m\u001B[38;5;124m \u001B[39m\u001B[38;5;124m\"\u001B[39m\n\u001B[1;32m    451\u001B[0m         \u001B[38;5;124m\"\u001B[39m\u001B[38;5;124mpositionally is deprecated since Matplotlib \u001B[39m\u001B[38;5;132;01m%(since)s\u001B[39;00m\u001B[38;5;124m; the \u001B[39m\u001B[38;5;124m\"\u001B[39m\n\u001B[1;32m    452\u001B[0m         \u001B[38;5;124m\"\u001B[39m\u001B[38;5;124mparameter will become keyword-only \u001B[39m\u001B[38;5;132;01m%(removal)s\u001B[39;00m\u001B[38;5;124m.\u001B[39m\u001B[38;5;124m\"\u001B[39m,\n\u001B[1;32m    453\u001B[0m         name\u001B[38;5;241m=\u001B[39mname, obj_type\u001B[38;5;241m=\u001B[39m\u001B[38;5;124mf\u001B[39m\u001B[38;5;124m\"\u001B[39m\u001B[38;5;124mparameter of \u001B[39m\u001B[38;5;132;01m{\u001B[39;00mfunc\u001B[38;5;241m.\u001B[39m\u001B[38;5;18m__name__\u001B[39m\u001B[38;5;132;01m}\u001B[39;00m\u001B[38;5;124m()\u001B[39m\u001B[38;5;124m\"\u001B[39m)\n\u001B[0;32m--> 454\u001B[0m \u001B[38;5;28;01mreturn\u001B[39;00m \u001B[43mfunc\u001B[49m\u001B[43m(\u001B[49m\u001B[38;5;241;43m*\u001B[39;49m\u001B[43margs\u001B[49m\u001B[43m,\u001B[49m\u001B[43m \u001B[49m\u001B[38;5;241;43m*\u001B[39;49m\u001B[38;5;241;43m*\u001B[39;49m\u001B[43mkwargs\u001B[49m\u001B[43m)\u001B[49m\n",
      "File \u001B[0;32m~/Library/Python/3.12/lib/python/site-packages/matplotlib/axes/_base.py:4423\u001B[0m, in \u001B[0;36m_AxesBase.get_tightbbox\u001B[0;34m(self, renderer, call_axes_locator, bbox_extra_artists, for_layout_only)\u001B[0m\n\u001B[1;32m   4419\u001B[0m     \u001B[38;5;28;01mif\u001B[39;00m (bbox \u001B[38;5;129;01mis\u001B[39;00m \u001B[38;5;129;01mnot\u001B[39;00m \u001B[38;5;28;01mNone\u001B[39;00m\n\u001B[1;32m   4420\u001B[0m             \u001B[38;5;129;01mand\u001B[39;00m \u001B[38;5;241m0\u001B[39m \u001B[38;5;241m<\u001B[39m bbox\u001B[38;5;241m.\u001B[39mwidth \u001B[38;5;241m<\u001B[39m np\u001B[38;5;241m.\u001B[39minf\n\u001B[1;32m   4421\u001B[0m             \u001B[38;5;129;01mand\u001B[39;00m \u001B[38;5;241m0\u001B[39m \u001B[38;5;241m<\u001B[39m bbox\u001B[38;5;241m.\u001B[39mheight \u001B[38;5;241m<\u001B[39m np\u001B[38;5;241m.\u001B[39minf):\n\u001B[1;32m   4422\u001B[0m         bb\u001B[38;5;241m.\u001B[39mappend(bbox)\n\u001B[0;32m-> 4423\u001B[0m \u001B[38;5;28;01mreturn\u001B[39;00m \u001B[43mmtransforms\u001B[49m\u001B[38;5;241;43m.\u001B[39;49m\u001B[43mBbox\u001B[49m\u001B[38;5;241;43m.\u001B[39;49m\u001B[43munion\u001B[49m\u001B[43m(\u001B[49m\n\u001B[1;32m   4424\u001B[0m \u001B[43m    \u001B[49m\u001B[43m[\u001B[49m\u001B[43mb\u001B[49m\u001B[43m \u001B[49m\u001B[38;5;28;43;01mfor\u001B[39;49;00m\u001B[43m \u001B[49m\u001B[43mb\u001B[49m\u001B[43m \u001B[49m\u001B[38;5;129;43;01min\u001B[39;49;00m\u001B[43m \u001B[49m\u001B[43mbb\u001B[49m\u001B[43m \u001B[49m\u001B[38;5;28;43;01mif\u001B[39;49;00m\u001B[43m \u001B[49m\u001B[43mb\u001B[49m\u001B[38;5;241;43m.\u001B[39;49m\u001B[43mwidth\u001B[49m\u001B[43m \u001B[49m\u001B[38;5;241;43m!=\u001B[39;49m\u001B[43m \u001B[49m\u001B[38;5;241;43m0\u001B[39;49m\u001B[43m \u001B[49m\u001B[38;5;129;43;01mor\u001B[39;49;00m\u001B[43m \u001B[49m\u001B[43mb\u001B[49m\u001B[38;5;241;43m.\u001B[39;49m\u001B[43mheight\u001B[49m\u001B[43m \u001B[49m\u001B[38;5;241;43m!=\u001B[39;49m\u001B[43m \u001B[49m\u001B[38;5;241;43m0\u001B[39;49m\u001B[43m]\u001B[49m\u001B[43m)\u001B[49m\n",
      "File \u001B[0;32m~/Library/Python/3.12/lib/python/site-packages/matplotlib/transforms.py:655\u001B[0m, in \u001B[0;36mBboxBase.union\u001B[0;34m(bboxes)\u001B[0m\n\u001B[1;32m    653\u001B[0m \u001B[38;5;250m\u001B[39m\u001B[38;5;124;03m\"\"\"Return a `Bbox` that contains all of the given *bboxes*.\"\"\"\u001B[39;00m\n\u001B[1;32m    654\u001B[0m \u001B[38;5;28;01mif\u001B[39;00m \u001B[38;5;129;01mnot\u001B[39;00m \u001B[38;5;28mlen\u001B[39m(bboxes):\n\u001B[0;32m--> 655\u001B[0m     \u001B[38;5;28;01mraise\u001B[39;00m \u001B[38;5;167;01mValueError\u001B[39;00m(\u001B[38;5;124m\"\u001B[39m\u001B[38;5;124m'\u001B[39m\u001B[38;5;124mbboxes\u001B[39m\u001B[38;5;124m'\u001B[39m\u001B[38;5;124m cannot be empty\u001B[39m\u001B[38;5;124m\"\u001B[39m)\n\u001B[1;32m    656\u001B[0m x0 \u001B[38;5;241m=\u001B[39m np\u001B[38;5;241m.\u001B[39mmin([bbox\u001B[38;5;241m.\u001B[39mxmin \u001B[38;5;28;01mfor\u001B[39;00m bbox \u001B[38;5;129;01min\u001B[39;00m bboxes])\n\u001B[1;32m    657\u001B[0m x1 \u001B[38;5;241m=\u001B[39m np\u001B[38;5;241m.\u001B[39mmax([bbox\u001B[38;5;241m.\u001B[39mxmax \u001B[38;5;28;01mfor\u001B[39;00m bbox \u001B[38;5;129;01min\u001B[39;00m bboxes])\n",
      "\u001B[0;31mValueError\u001B[0m: 'bboxes' cannot be empty"
     ]
    },
    {
     "data": {
      "text/plain": "<Figure size 1600x900 with 46 Axes>"
     },
     "metadata": {},
     "output_type": "display_data"
    }
   ],
   "source": [
    "draw_network(G)"
   ],
   "metadata": {
    "collapsed": false,
    "ExecuteTime": {
     "end_time": "2024-01-08T08:19:02.854315Z",
     "start_time": "2024-01-08T08:18:52.186778Z"
    }
   },
   "id": "73f3f472ed8e822b",
   "execution_count": 8
  }
 ],
 "metadata": {
  "kernelspec": {
   "display_name": "Python 3",
   "language": "python",
   "name": "python3"
  },
  "language_info": {
   "codemirror_mode": {
    "name": "ipython",
    "version": 2
   },
   "file_extension": ".py",
   "mimetype": "text/x-python",
   "name": "python",
   "nbconvert_exporter": "python",
   "pygments_lexer": "ipython2",
   "version": "2.7.6"
  }
 },
 "nbformat": 4,
 "nbformat_minor": 5
}
